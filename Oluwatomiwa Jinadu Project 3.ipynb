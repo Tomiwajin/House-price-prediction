{
 "cells": [
  {
   "cell_type": "markdown",
   "id": "157afb68",
   "metadata": {},
   "source": [
    "Title: Predicting the prices of apartments in California using features from a dataset.\n",
    "\n",
    "This model aims to predict the prices of apartments in California. To build a model that predicts the prices of apartments in California i would be making use of a data set that contains real estate information such as the house age, latitude,longitude,ocean proximity e.t.c.\n",
    "\n",
    "This csv file contains a data set of real estate informations:\n",
    "\n",
    "https://www.kaggle.com/datasets/camnugent/california-housing-prices/data\n",
    "\n",
    "Link to Workthrough video 3 parts: (part 1)https://www.loom.com/share/4bd9189e9bfe45a6bc8fc1943dd607e9?sid=8ca05a85-9b59-4c97-a65b-98f5f58e7fd3\n",
    "\n",
    "part(2)https://www.loom.com/share/f3fe85072a5148a185dd00da3121190a?sid=a571dc7d-bca9-4c93-8dfb-5f03584f41a2\n",
    "\n",
    "part(3)https://www.loom.com/share/ff9a9480cfae48adb6ad58fff3ff42e6?sid=1fe606e7-d1a2-4819-86a5-1799a0285565\n",
    "\n",
    "Link to git:https://github.com/Tomiwajin/House-price-prediction.git"
   ]
  },
  {
   "cell_type": "markdown",
   "id": "05f08be0",
   "metadata": {},
   "source": [
    "For this project i made use of a XGBRegressor algorithm for my prediction. \n"
   ]
  },
  {
   "cell_type": "code",
   "execution_count": 346,
   "id": "471bd95f",
   "metadata": {},
   "outputs": [],
   "source": [
    "#import csv file\n",
    "\n",
    "import pandas as pd\n",
    "import matplotlib.pyplot as plt\n",
    "import seaborn as sns\n",
    "from sklearn.feature_selection import SelectKBest, f_classif, chi2\n",
    "import numpy as np\n",
    "from sklearn.model_selection import train_test_split\n",
    "from sklearn.metrics import mean_squared_error, mean_absolute_error, r2_score\n",
    "from xgboost import XGBRegressor\n",
    "\n",
    "df = pd.read_csv('housing.csv')"
   ]
  },
  {
   "cell_type": "code",
   "execution_count": 347,
   "id": "04cdb6c4",
   "metadata": {},
   "outputs": [
    {
     "data": {
      "text/html": [
       "<div>\n",
       "<style scoped>\n",
       "    .dataframe tbody tr th:only-of-type {\n",
       "        vertical-align: middle;\n",
       "    }\n",
       "\n",
       "    .dataframe tbody tr th {\n",
       "        vertical-align: top;\n",
       "    }\n",
       "\n",
       "    .dataframe thead th {\n",
       "        text-align: right;\n",
       "    }\n",
       "</style>\n",
       "<table border=\"1\" class=\"dataframe\">\n",
       "  <thead>\n",
       "    <tr style=\"text-align: right;\">\n",
       "      <th></th>\n",
       "      <th>longitude</th>\n",
       "      <th>latitude</th>\n",
       "      <th>housing_median_age</th>\n",
       "      <th>total_rooms</th>\n",
       "      <th>total_bedrooms</th>\n",
       "      <th>population</th>\n",
       "      <th>households</th>\n",
       "      <th>median_income</th>\n",
       "      <th>median_house_value</th>\n",
       "      <th>ocean_proximity</th>\n",
       "    </tr>\n",
       "  </thead>\n",
       "  <tbody>\n",
       "    <tr>\n",
       "      <th>0</th>\n",
       "      <td>-122.23</td>\n",
       "      <td>37.88</td>\n",
       "      <td>41.0</td>\n",
       "      <td>880.0</td>\n",
       "      <td>129.0</td>\n",
       "      <td>322.0</td>\n",
       "      <td>126.0</td>\n",
       "      <td>8.3252</td>\n",
       "      <td>452600.0</td>\n",
       "      <td>NEAR BAY</td>\n",
       "    </tr>\n",
       "    <tr>\n",
       "      <th>1</th>\n",
       "      <td>-122.22</td>\n",
       "      <td>37.86</td>\n",
       "      <td>21.0</td>\n",
       "      <td>7099.0</td>\n",
       "      <td>1106.0</td>\n",
       "      <td>2401.0</td>\n",
       "      <td>1138.0</td>\n",
       "      <td>8.3014</td>\n",
       "      <td>358500.0</td>\n",
       "      <td>NEAR BAY</td>\n",
       "    </tr>\n",
       "    <tr>\n",
       "      <th>2</th>\n",
       "      <td>-122.24</td>\n",
       "      <td>37.85</td>\n",
       "      <td>52.0</td>\n",
       "      <td>1467.0</td>\n",
       "      <td>190.0</td>\n",
       "      <td>496.0</td>\n",
       "      <td>177.0</td>\n",
       "      <td>7.2574</td>\n",
       "      <td>352100.0</td>\n",
       "      <td>NEAR BAY</td>\n",
       "    </tr>\n",
       "    <tr>\n",
       "      <th>3</th>\n",
       "      <td>-122.25</td>\n",
       "      <td>37.85</td>\n",
       "      <td>52.0</td>\n",
       "      <td>1274.0</td>\n",
       "      <td>235.0</td>\n",
       "      <td>558.0</td>\n",
       "      <td>219.0</td>\n",
       "      <td>5.6431</td>\n",
       "      <td>341300.0</td>\n",
       "      <td>NEAR BAY</td>\n",
       "    </tr>\n",
       "  </tbody>\n",
       "</table>\n",
       "</div>"
      ],
      "text/plain": [
       "   longitude  latitude  housing_median_age  total_rooms  total_bedrooms  \\\n",
       "0    -122.23     37.88                41.0        880.0           129.0   \n",
       "1    -122.22     37.86                21.0       7099.0          1106.0   \n",
       "2    -122.24     37.85                52.0       1467.0           190.0   \n",
       "3    -122.25     37.85                52.0       1274.0           235.0   \n",
       "\n",
       "   population  households  median_income  median_house_value ocean_proximity  \n",
       "0       322.0       126.0         8.3252            452600.0        NEAR BAY  \n",
       "1      2401.0      1138.0         8.3014            358500.0        NEAR BAY  \n",
       "2       496.0       177.0         7.2574            352100.0        NEAR BAY  \n",
       "3       558.0       219.0         5.6431            341300.0        NEAR BAY  "
      ]
     },
     "execution_count": 347,
     "metadata": {},
     "output_type": "execute_result"
    }
   ],
   "source": [
    "#Data cleaning \n",
    "\n",
    "df.head(4)"
   ]
  },
  {
   "cell_type": "code",
   "execution_count": 348,
   "id": "b3311ce0",
   "metadata": {},
   "outputs": [
    {
     "data": {
      "text/plain": [
       "(20640, 10)"
      ]
     },
     "execution_count": 348,
     "metadata": {},
     "output_type": "execute_result"
    }
   ],
   "source": [
    "#Check df shape before data cleaning\n",
    "\n",
    "df.shape"
   ]
  },
  {
   "cell_type": "code",
   "execution_count": 349,
   "id": "7002b0ec",
   "metadata": {},
   "outputs": [
    {
     "name": "stdout",
     "output_type": "stream",
     "text": [
      "Missing Values : \n",
      " longitude               0\n",
      "latitude                0\n",
      "housing_median_age      0\n",
      "total_rooms             0\n",
      "total_bedrooms        207\n",
      "population              0\n",
      "households              0\n",
      "median_income           0\n",
      "median_house_value      0\n",
      "ocean_proximity         0\n",
      "dtype: int64\n"
     ]
    }
   ],
   "source": [
    "# Check for missing values in each column\n",
    "missing_values = df.isnull().sum()\n",
    "\n",
    "print(f\"Missing Values : \\n {missing_values}\")"
   ]
  },
  {
   "cell_type": "code",
   "execution_count": 350,
   "id": "e8a20680",
   "metadata": {},
   "outputs": [],
   "source": [
    "# Delete rows where 'total_bedrooms' column is missing\n",
    "\n",
    "df.dropna(subset=['total_bedrooms'], inplace=True)"
   ]
  },
  {
   "cell_type": "code",
   "execution_count": 351,
   "id": "2eb9337f",
   "metadata": {},
   "outputs": [
    {
     "name": "stdout",
     "output_type": "stream",
     "text": [
      "0\n"
     ]
    }
   ],
   "source": [
    "#Check for duplicate records\n",
    "\n",
    "duplicates = df.duplicated(subset=['longitude', 'latitude', 'housing_median_age', 'total_rooms', 'total_bedrooms', 'population', 'households','median_income','median_house_value','ocean_proximity'])\n",
    "\n",
    "print(sum(duplicates))"
   ]
  },
  {
   "cell_type": "code",
   "execution_count": 352,
   "id": "99b6464c",
   "metadata": {},
   "outputs": [],
   "source": [
    "# Change the column name ‘median_house_value’ to ‘Target’\n",
    "\n",
    "df.rename(columns={'median_house_value': 'Target'}, inplace=True)"
   ]
  },
  {
   "cell_type": "code",
   "execution_count": 353,
   "id": "f44d155d",
   "metadata": {},
   "outputs": [],
   "source": [
    "# Change the column 'housing_median_age' to 'House_Age'\n",
    "df.rename(columns={'housing_median_age': 'House_Age'}, inplace=True)"
   ]
  },
  {
   "cell_type": "code",
   "execution_count": 354,
   "id": "adbe216d",
   "metadata": {},
   "outputs": [],
   "source": [
    "# Change the column 'total_rooms' to 'TotalRoomsInBlock'\n",
    "df.rename(columns={'total_rooms': 'TotalRoomsInBlock'}, inplace=True)"
   ]
  },
  {
   "cell_type": "code",
   "execution_count": 355,
   "id": "34afcf15",
   "metadata": {},
   "outputs": [],
   "source": [
    "# Change the column 'total_bedrooms' to 'TotalBedroomsInBlock'\n",
    "df.rename(columns={'total_bedrooms': 'TotalBedroomsInBlock'}, inplace=True)"
   ]
  },
  {
   "cell_type": "code",
   "execution_count": 356,
   "id": "e914587a",
   "metadata": {},
   "outputs": [],
   "source": [
    "# Change the column 'population' to 'PopulationInBlock'\n",
    "df.rename(columns={'population': 'PopulationInBlock'}, inplace=True)"
   ]
  },
  {
   "cell_type": "code",
   "execution_count": 357,
   "id": "776c0ff3",
   "metadata": {},
   "outputs": [],
   "source": [
    "# Change the column 'median_income' to 'MedianIncomeInBlock'\n",
    "df.rename(columns={'median_income': 'MedianIncomeInBlock'}, inplace=True)"
   ]
  },
  {
   "cell_type": "code",
   "execution_count": 358,
   "id": "58d80aa3",
   "metadata": {},
   "outputs": [
    {
     "data": {
      "text/html": [
       "<div>\n",
       "<style scoped>\n",
       "    .dataframe tbody tr th:only-of-type {\n",
       "        vertical-align: middle;\n",
       "    }\n",
       "\n",
       "    .dataframe tbody tr th {\n",
       "        vertical-align: top;\n",
       "    }\n",
       "\n",
       "    .dataframe thead th {\n",
       "        text-align: right;\n",
       "    }\n",
       "</style>\n",
       "<table border=\"1\" class=\"dataframe\">\n",
       "  <thead>\n",
       "    <tr style=\"text-align: right;\">\n",
       "      <th></th>\n",
       "      <th>longitude</th>\n",
       "      <th>latitude</th>\n",
       "      <th>House_Age</th>\n",
       "      <th>TotalRoomsInBlock</th>\n",
       "      <th>TotalBedroomsInBlock</th>\n",
       "      <th>PopulationInBlock</th>\n",
       "      <th>households</th>\n",
       "      <th>MedianIncomeInBlock</th>\n",
       "      <th>Target</th>\n",
       "      <th>ocean_proximity</th>\n",
       "    </tr>\n",
       "  </thead>\n",
       "  <tbody>\n",
       "    <tr>\n",
       "      <th>0</th>\n",
       "      <td>-122.23</td>\n",
       "      <td>37.88</td>\n",
       "      <td>41.0</td>\n",
       "      <td>880.0</td>\n",
       "      <td>129.0</td>\n",
       "      <td>322.0</td>\n",
       "      <td>126.0</td>\n",
       "      <td>8.3252</td>\n",
       "      <td>452600.0</td>\n",
       "      <td>NEAR BAY</td>\n",
       "    </tr>\n",
       "    <tr>\n",
       "      <th>1</th>\n",
       "      <td>-122.22</td>\n",
       "      <td>37.86</td>\n",
       "      <td>21.0</td>\n",
       "      <td>7099.0</td>\n",
       "      <td>1106.0</td>\n",
       "      <td>2401.0</td>\n",
       "      <td>1138.0</td>\n",
       "      <td>8.3014</td>\n",
       "      <td>358500.0</td>\n",
       "      <td>NEAR BAY</td>\n",
       "    </tr>\n",
       "    <tr>\n",
       "      <th>2</th>\n",
       "      <td>-122.24</td>\n",
       "      <td>37.85</td>\n",
       "      <td>52.0</td>\n",
       "      <td>1467.0</td>\n",
       "      <td>190.0</td>\n",
       "      <td>496.0</td>\n",
       "      <td>177.0</td>\n",
       "      <td>7.2574</td>\n",
       "      <td>352100.0</td>\n",
       "      <td>NEAR BAY</td>\n",
       "    </tr>\n",
       "    <tr>\n",
       "      <th>3</th>\n",
       "      <td>-122.25</td>\n",
       "      <td>37.85</td>\n",
       "      <td>52.0</td>\n",
       "      <td>1274.0</td>\n",
       "      <td>235.0</td>\n",
       "      <td>558.0</td>\n",
       "      <td>219.0</td>\n",
       "      <td>5.6431</td>\n",
       "      <td>341300.0</td>\n",
       "      <td>NEAR BAY</td>\n",
       "    </tr>\n",
       "  </tbody>\n",
       "</table>\n",
       "</div>"
      ],
      "text/plain": [
       "   longitude  latitude  House_Age  TotalRoomsInBlock  TotalBedroomsInBlock  \\\n",
       "0    -122.23     37.88       41.0              880.0                 129.0   \n",
       "1    -122.22     37.86       21.0             7099.0                1106.0   \n",
       "2    -122.24     37.85       52.0             1467.0                 190.0   \n",
       "3    -122.25     37.85       52.0             1274.0                 235.0   \n",
       "\n",
       "   PopulationInBlock  households  MedianIncomeInBlock    Target  \\\n",
       "0              322.0       126.0               8.3252  452600.0   \n",
       "1             2401.0      1138.0               8.3014  358500.0   \n",
       "2              496.0       177.0               7.2574  352100.0   \n",
       "3              558.0       219.0               5.6431  341300.0   \n",
       "\n",
       "  ocean_proximity  \n",
       "0        NEAR BAY  \n",
       "1        NEAR BAY  \n",
       "2        NEAR BAY  \n",
       "3        NEAR BAY  "
      ]
     },
     "execution_count": 358,
     "metadata": {},
     "output_type": "execute_result"
    }
   ],
   "source": [
    "#View changes \n",
    "df.head(4)"
   ]
  },
  {
   "cell_type": "code",
   "execution_count": 359,
   "id": "7e00e67c",
   "metadata": {},
   "outputs": [
    {
     "data": {
      "text/plain": [
       "(20433, 10)"
      ]
     },
     "execution_count": 359,
     "metadata": {},
     "output_type": "execute_result"
    }
   ],
   "source": [
    "# Check df shape after cleaning\n",
    "df.shape"
   ]
  },
  {
   "cell_type": "code",
   "execution_count": 360,
   "id": "a99ec4da",
   "metadata": {},
   "outputs": [
    {
     "data": {
      "image/png": "[encoded data removed]",
      "text/plain": [
       "<Figure size 640x480 with 1 Axes>"
      ]
     },
     "metadata": {},
     "output_type": "display_data"
    }
   ],
   "source": [
    "#check for outliers\n",
    "\n",
    "df.boxplot(column=['Target'])\n",
    "plt.show()"
   ]
  },
  {
   "cell_type": "code",
   "execution_count": 361,
   "id": "be6556ed",
   "metadata": {},
   "outputs": [
    {
     "data": {
      "image/png": "[encoded data removed]",
      "text/plain": [
       "<Figure size 640x480 with 1 Axes>"
      ]
     },
     "metadata": {},
     "output_type": "display_data"
    }
   ],
   "source": [
    "#Remove outliers \n",
    "\n",
    "df = df[df['Target'] < 500000]\n",
    "df.boxplot(column=['Target'])\n",
    "plt.show()"
   ]
  },
  {
   "cell_type": "code",
   "execution_count": 362,
   "id": "4ba59a25",
   "metadata": {},
   "outputs": [
    {
     "data": {
      "text/plain": [
       "(19448, 10)"
      ]
     },
     "execution_count": 362,
     "metadata": {},
     "output_type": "execute_result"
    }
   ],
   "source": [
    "# Check df shape after cleaning\n",
    "df.shape"
   ]
  },
  {
   "cell_type": "code",
   "execution_count": 363,
   "id": "2e2a5e2e",
   "metadata": {},
   "outputs": [],
   "source": [
    "#Feature Selection\n",
    "#Use ANOVA f-test for selecting numerical features\n",
    "x = df.loc[:, ['longitude', 'latitude', 'House_Age', 'TotalRoomsInBlock', 'TotalBedroomsInBlock', 'PopulationInBlock', 'households','MedianIncomeInBlock']]\n",
    "y = df.loc[:, 'Target']"
   ]
  },
  {
   "cell_type": "code",
   "execution_count": 364,
   "id": "2f1fdd9d",
   "metadata": {},
   "outputs": [
    {
     "name": "stdout",
     "output_type": "stream",
     "text": [
      "F-Score: [1.04978224 1.22671495 1.07555343 1.55504237 1.14090136 1.14329362\n",
      " 1.20162913 6.39862456]\n",
      "P-Values: [0.02745301 0.         0.00197396 0.         0.00000008 0.00000005\n",
      " 0.         0.        ]\n"
     ]
    }
   ],
   "source": [
    "np.set_printoptions(suppress = True)\n",
    "fs = SelectKBest(score_func=f_classif, k='all')\n",
    "bestFeatures = fs.fit(x, y)\n",
    "print(f'F-Score: {bestFeatures.scores_}')\n",
    "print(f'P-Values: {bestFeatures.pvalues_}')"
   ]
  },
  {
   "cell_type": "markdown",
   "id": "04f08a5f",
   "metadata": {},
   "source": [
    "All the p values are below 0.05 meaning for each of these variables, there is a statistically significant difference between the two groups."
   ]
  },
  {
   "cell_type": "code",
   "execution_count": 365,
   "id": "0e7eb207",
   "metadata": {},
   "outputs": [],
   "source": [
    "#Convert categorical variables to numeric \n",
    "\n",
    "# Define the mapping for the categories \n",
    "ocean_proximity_mapping = {'<1H OCEAN': 0,'INLAND': 1,'NEAR OCEAN': 2,'NEAR BAY': 3,'ISLAND': 4}"
   ]
  },
  {
   "cell_type": "code",
   "execution_count": 366,
   "id": "85d6164d",
   "metadata": {},
   "outputs": [],
   "source": [
    "# Replace Category values with numeric values\n",
    "df['ocean_proximity'] = df['ocean_proximity'].replace(ocean_proximity_mapping)"
   ]
  },
  {
   "cell_type": "code",
   "execution_count": 367,
   "id": "e7e33de4",
   "metadata": {},
   "outputs": [
    {
     "name": "stdout",
     "output_type": "stream",
     "text": [
      "F-Score: [5047.753381]\n",
      "P-Values: [0.]\n"
     ]
    }
   ],
   "source": [
    "#Use chi-squared test to see the dependance of each categorical feature\n",
    "\n",
    "x = df.loc[:, ['ocean_proximity']]\n",
    "y = df.loc[:, 'Target']\n",
    "\n",
    "chi = SelectKBest(score_func=chi2, k='all')\n",
    "catFeatures = chi.fit(x, y)\n",
    "print(f'F-Score: {catFeatures.scores_}')\n",
    "print(f'P-Values: {catFeatures.pvalues_}')"
   ]
  },
  {
   "cell_type": "code",
   "execution_count": 369,
   "id": "4d2c5fb6",
   "metadata": {},
   "outputs": [
    {
     "data": {
      "text/html": [
       "<div>\n",
       "<style scoped>\n",
       "    .dataframe tbody tr th:only-of-type {\n",
       "        vertical-align: middle;\n",
       "    }\n",
       "\n",
       "    .dataframe tbody tr th {\n",
       "        vertical-align: top;\n",
       "    }\n",
       "\n",
       "    .dataframe thead th {\n",
       "        text-align: right;\n",
       "    }\n",
       "</style>\n",
       "<table border=\"1\" class=\"dataframe\">\n",
       "  <thead>\n",
       "    <tr style=\"text-align: right;\">\n",
       "      <th></th>\n",
       "      <th>longitude</th>\n",
       "      <th>latitude</th>\n",
       "      <th>House_Age</th>\n",
       "      <th>TotalRoomsInBlock</th>\n",
       "      <th>TotalBedroomsInBlock</th>\n",
       "      <th>PopulationInBlock</th>\n",
       "      <th>households</th>\n",
       "      <th>MedianIncomeInBlock</th>\n",
       "      <th>Target</th>\n",
       "      <th>ocean_proximity_1</th>\n",
       "      <th>ocean_proximity_2</th>\n",
       "      <th>ocean_proximity_3</th>\n",
       "      <th>ocean_proximity_4</th>\n",
       "    </tr>\n",
       "  </thead>\n",
       "  <tbody>\n",
       "    <tr>\n",
       "      <th>0</th>\n",
       "      <td>-122.23</td>\n",
       "      <td>37.88</td>\n",
       "      <td>41.0</td>\n",
       "      <td>880.0</td>\n",
       "      <td>129.0</td>\n",
       "      <td>322.0</td>\n",
       "      <td>126.0</td>\n",
       "      <td>8.3252</td>\n",
       "      <td>452600.0</td>\n",
       "      <td>0</td>\n",
       "      <td>0</td>\n",
       "      <td>1</td>\n",
       "      <td>0</td>\n",
       "    </tr>\n",
       "    <tr>\n",
       "      <th>1</th>\n",
       "      <td>-122.22</td>\n",
       "      <td>37.86</td>\n",
       "      <td>21.0</td>\n",
       "      <td>7099.0</td>\n",
       "      <td>1106.0</td>\n",
       "      <td>2401.0</td>\n",
       "      <td>1138.0</td>\n",
       "      <td>8.3014</td>\n",
       "      <td>358500.0</td>\n",
       "      <td>0</td>\n",
       "      <td>0</td>\n",
       "      <td>1</td>\n",
       "      <td>0</td>\n",
       "    </tr>\n",
       "    <tr>\n",
       "      <th>2</th>\n",
       "      <td>-122.24</td>\n",
       "      <td>37.85</td>\n",
       "      <td>52.0</td>\n",
       "      <td>1467.0</td>\n",
       "      <td>190.0</td>\n",
       "      <td>496.0</td>\n",
       "      <td>177.0</td>\n",
       "      <td>7.2574</td>\n",
       "      <td>352100.0</td>\n",
       "      <td>0</td>\n",
       "      <td>0</td>\n",
       "      <td>1</td>\n",
       "      <td>0</td>\n",
       "    </tr>\n",
       "    <tr>\n",
       "      <th>3</th>\n",
       "      <td>-122.25</td>\n",
       "      <td>37.85</td>\n",
       "      <td>52.0</td>\n",
       "      <td>1274.0</td>\n",
       "      <td>235.0</td>\n",
       "      <td>558.0</td>\n",
       "      <td>219.0</td>\n",
       "      <td>5.6431</td>\n",
       "      <td>341300.0</td>\n",
       "      <td>0</td>\n",
       "      <td>0</td>\n",
       "      <td>1</td>\n",
       "      <td>0</td>\n",
       "    </tr>\n",
       "    <tr>\n",
       "      <th>4</th>\n",
       "      <td>-122.25</td>\n",
       "      <td>37.85</td>\n",
       "      <td>52.0</td>\n",
       "      <td>1627.0</td>\n",
       "      <td>280.0</td>\n",
       "      <td>565.0</td>\n",
       "      <td>259.0</td>\n",
       "      <td>3.8462</td>\n",
       "      <td>342200.0</td>\n",
       "      <td>0</td>\n",
       "      <td>0</td>\n",
       "      <td>1</td>\n",
       "      <td>0</td>\n",
       "    </tr>\n",
       "  </tbody>\n",
       "</table>\n",
       "</div>"
      ],
      "text/plain": [
       "   longitude  latitude  House_Age  TotalRoomsInBlock  TotalBedroomsInBlock  \\\n",
       "0    -122.23     37.88       41.0              880.0                 129.0   \n",
       "1    -122.22     37.86       21.0             7099.0                1106.0   \n",
       "2    -122.24     37.85       52.0             1467.0                 190.0   \n",
       "3    -122.25     37.85       52.0             1274.0                 235.0   \n",
       "4    -122.25     37.85       52.0             1627.0                 280.0   \n",
       "\n",
       "   PopulationInBlock  households  MedianIncomeInBlock    Target  \\\n",
       "0              322.0       126.0               8.3252  452600.0   \n",
       "1             2401.0      1138.0               8.3014  358500.0   \n",
       "2              496.0       177.0               7.2574  352100.0   \n",
       "3              558.0       219.0               5.6431  341300.0   \n",
       "4              565.0       259.0               3.8462  342200.0   \n",
       "\n",
       "   ocean_proximity_1  ocean_proximity_2  ocean_proximity_3  ocean_proximity_4  \n",
       "0                  0                  0                  1                  0  \n",
       "1                  0                  0                  1                  0  \n",
       "2                  0                  0                  1                  0  \n",
       "3                  0                  0                  1                  0  \n",
       "4                  0                  0                  1                  0  "
      ]
     },
     "execution_count": 369,
     "metadata": {},
     "output_type": "execute_result"
    }
   ],
   "source": [
    "#Change the categorical variables with more than two unique values to dummy variables.\n",
    "df_withdummies = pd.get_dummies(df,columns=['ocean_proximity'],drop_first=True)\n",
    "df_withdummies.head()"
   ]
  },
  {
   "cell_type": "code",
   "execution_count": 370,
   "id": "401c6413",
   "metadata": {},
   "outputs": [],
   "source": [
    "#Split the dataset into 80% training dataset and 20% testing dataset. \n",
    "\n",
    "# Split the data into X and Y\n",
    "X = df_withdummies.drop(columns=['Target'])\n",
    "y = df_withdummies['Target']\n",
    "\n",
    "# Standardize the features \n",
    "scaler = StandardScaler()\n",
    "X_scaled = scaler.fit_transform(X)\n",
    "\n",
    "# Split the data into training (80%) and testing (20%) datasets\n",
    "X_train, X_test, y_train, y_test = train_test_split(X_scaled, y, test_size=0.2, random_state=5)"
   ]
  },
  {
   "cell_type": "code",
   "execution_count": 371,
   "id": "b562a354",
   "metadata": {},
   "outputs": [
    {
     "name": "stdout",
     "output_type": "stream",
     "text": [
      "Mean Squared Error: 1907573911.228619\n",
      "Mean Absolute Error: 29623.769440874035\n",
      "R-squared: 0.792583416420043\n"
     ]
    }
   ],
   "source": [
    "#Build model\n",
    "model_xgb = XGBRegressor()\n",
    "model_xgb.fit(X_train, y_train)\n",
    "\n",
    "# Evaluate the model\n",
    "\n",
    "r2 = model_xgb.score(X_test,y_test)\n",
    "\n",
    "print(f'Mean Squared Error: {mse}')\n",
    "print(f'Mean Absolute Error: {mae}')\n",
    "print(f'R-squared: {r2}')"
   ]
  },
  {
   "cell_type": "code",
   "execution_count": 372,
   "id": "929a1de1",
   "metadata": {},
   "outputs": [
    {
     "data": {
      "text/plain": [
       "array([ 80859.43 , 140002.03 , 313042.9  , ..., 309665.9  ,  57250.207,\n",
       "       125173.586], dtype=float32)"
      ]
     },
     "execution_count": 372,
     "metadata": {},
     "output_type": "execute_result"
    }
   ],
   "source": [
    "model_xgb.predict(X_test)"
   ]
  },
  {
   "cell_type": "code",
   "execution_count": 373,
   "id": "c9f2ede0",
   "metadata": {},
   "outputs": [],
   "source": [
    "import pickle\n",
    "pickle.dump(model_xgb, open(\"model.pkl\", \"wb\"))  "
   ]
  },
  {
   "cell_type": "code",
   "execution_count": 374,
   "id": "25bb9b6a",
   "metadata": {},
   "outputs": [
    {
     "name": "stdout",
     "output_type": "stream",
     "text": [
      "[ 80859.43  140002.03  313042.9   ... 309665.9    57250.207 125173.586]\n"
     ]
    }
   ],
   "source": [
    "Xgb_model = pickle.load(open('model.pkl', \"rb\"))\n",
    "result = Xgb_model.predict(X_test)\n",
    "print(result)"
   ]
  },
  {
   "cell_type": "code",
   "execution_count": 375,
   "id": "76af942c",
   "metadata": {},
   "outputs": [],
   "source": [
    "#Dump scaler\n",
    "pickle.dump(scaler, open('scaler.pkl', 'wb'))"
   ]
  },
  {
   "cell_type": "code",
   "execution_count": 376,
   "id": "c7e9aeb0",
   "metadata": {},
   "outputs": [],
   "source": [
    "#Load scaler\n",
    "scaler = pickle.load(open('scaler.pkl', 'rb'))"
   ]
  },
  {
   "cell_type": "code",
   "execution_count": null,
   "id": "94b202ac",
   "metadata": {},
   "outputs": [],
   "source": []
  }
 ],
 "metadata": {
  "kernelspec": {
   "display_name": "Python 3 (ipykernel)",
   "language": "python",
   "name": "python3"
  },
  "language_info": {
   "codemirror_mode": {
    "name": "ipython",
    "version": 3
   },
   "file_extension": ".py",
   "mimetype": "text/x-python",
   "name": "python",
   "nbconvert_exporter": "python",
   "pygments_lexer": "ipython3",
   "version": "3.11.4"
  }
 },
 "nbformat": 4,
 "nbformat_minor": 5
}
